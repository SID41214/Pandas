{
  "nbformat": 4,
  "nbformat_minor": 0,
  "metadata": {
    "colab": {
      "provenance": []
    },
    "kernelspec": {
      "name": "python3",
      "display_name": "Python 3"
    },
    "language_info": {
      "name": "python"
    }
  },
  "cells": [
    {
      "cell_type": "markdown",
      "source": [
        "**1.astype()**\n",
        "\n",
        "a. Convert the column age in a DataFrame to float64:"
      ],
      "metadata": {
        "id": "OnRZcSGOkN78"
      }
    },
    {
      "cell_type": "code",
      "execution_count": null,
      "metadata": {
        "id": "zuTAtdr8j41C"
      },
      "outputs": [],
      "source": [
        "import pandas as pd\n",
        "\n",
        "df = pd.DataFrame({'age': [25, 30, 45]})\n",
        "df['age'] = df['age'].astype('float64')\n",
        "print(df)\n"
      ]
    },
    {
      "cell_type": "markdown",
      "source": [
        "b. Change a Pandas Series of integers into strings using astype():"
      ],
      "metadata": {
        "id": "CNhv2bWskT-Y"
      }
    },
    {
      "cell_type": "code",
      "source": [
        "series = pd.Series([1, 2, 3])\n",
        "series = series.astype('str')\n",
        "print(series)\n"
      ],
      "metadata": {
        "id": "pTzYLhz8kVfW"
      },
      "execution_count": null,
      "outputs": []
    },
    {
      "cell_type": "markdown",
      "source": [
        "c. Convert a DataFrame containing numeric values into int32 datatype:"
      ],
      "metadata": {
        "id": "uaFYFdC2kXm-"
      }
    },
    {
      "cell_type": "code",
      "source": [
        "df = pd.DataFrame([[1.5, 2.3], [3.1, 4.8]])\n",
        "df = df.astype('int32')\n",
        "print(df)\n"
      ],
      "metadata": {
        "id": "8WM2etCUkZC6"
      },
      "execution_count": null,
      "outputs": []
    },
    {
      "cell_type": "markdown",
      "source": [
        "**2. at property**\n",
        "\n",
        "a. Access the value in row 2 and column 'age' using the at property:"
      ],
      "metadata": {
        "id": "hLD4qz1jkb9K"
      }
    },
    {
      "cell_type": "code",
      "source": [
        "df = pd.DataFrame({'age': [25, 30, 45], 'name': ['Alice', 'Bob', 'Charlie']})\n",
        "value = df.at[2, 'age']\n",
        "print(value)\n"
      ],
      "metadata": {
        "id": "mnsV4Lmrkepg"
      },
      "execution_count": null,
      "outputs": []
    },
    {
      "cell_type": "markdown",
      "source": [
        "b. Update the value at a specific row and column using at property:"
      ],
      "metadata": {
        "id": "CdfgfjH9lOLr"
      }
    },
    {
      "cell_type": "code",
      "source": [
        "df.at[2, 'age'] = 50\n",
        "print(df)\n"
      ],
      "metadata": {
        "id": "IwRXSf1zlOlJ"
      },
      "execution_count": null,
      "outputs": []
    },
    {
      "cell_type": "markdown",
      "source": [
        "c. Use at to access and change multiple values in a DataFrame:"
      ],
      "metadata": {
        "id": "DlZJ_8wrlP4e"
      }
    },
    {
      "cell_type": "code",
      "source": [
        "df.at[0, 'age'] = 28\n",
        "df.at[1, 'name'] = 'Robert'\n",
        "print(df)\n"
      ],
      "metadata": {
        "id": "hLvYWJ1-lRsy"
      },
      "execution_count": null,
      "outputs": []
    },
    {
      "cell_type": "markdown",
      "source": [
        "**3. bfill()**\n",
        "\n",
        "a. Create a DataFrame with some missing values and fill them using bfill():"
      ],
      "metadata": {
        "id": "BQ2I0DwwlUTh"
      }
    },
    {
      "cell_type": "code",
      "source": [
        "df = pd.DataFrame({'A': [1, None, 3], 'B': [4, 5, None]})\n",
        "df_bfilled = df.bfill()\n",
        "print(df_bfilled)\n"
      ],
      "metadata": {
        "id": "VN9wIY3DlYVE"
      },
      "execution_count": null,
      "outputs": []
    },
    {
      "cell_type": "markdown",
      "source": [
        "b. Demonstrate how bfill() works with multiple columns in a DataFrame:"
      ],
      "metadata": {
        "id": "h-njfPSUlaU9"
      }
    },
    {
      "cell_type": "code",
      "source": [
        "df = pd.DataFrame({'A': [1, None, 3], 'B': [None, 5, 6], 'C': [7, None, None]})\n",
        "df_bfilled = df.bfill()\n",
        "print(df_bfilled)\n"
      ],
      "metadata": {
        "id": "gwQytInpla6a"
      },
      "execution_count": null,
      "outputs": []
    },
    {
      "cell_type": "markdown",
      "source": [
        "c. Show how to limit the number of bfill() operations to one row:"
      ],
      "metadata": {
        "id": "WR9vE569lcqP"
      }
    },
    {
      "cell_type": "code",
      "source": [
        "df_bfilled = df.bfill(limit=1)\n",
        "print(df_bfilled)\n"
      ],
      "metadata": {
        "id": "upTcbugOleMz"
      },
      "execution_count": null,
      "outputs": []
    },
    {
      "cell_type": "markdown",
      "source": [
        "**4. columns property**\n",
        "\n",
        "a. Display the column names of a DataFrame using the columns property:"
      ],
      "metadata": {
        "id": "9qtsPGKSlh9L"
      }
    },
    {
      "cell_type": "code",
      "source": [
        "df = pd.DataFrame({'age': [25, 30], 'name': ['Alice', 'Bob']})\n",
        "print(df.columns)\n"
      ],
      "metadata": {
        "id": "G93ZvtQyl5rv"
      },
      "execution_count": null,
      "outputs": []
    },
    {
      "cell_type": "markdown",
      "source": [
        "b. Rename columns in a DataFrame by directly modifying the columns property:"
      ],
      "metadata": {
        "id": "CK2SLk5Ol7DR"
      }
    },
    {
      "cell_type": "code",
      "source": [
        "df.columns = ['years', 'person_name']\n",
        "print(df)\n"
      ],
      "metadata": {
        "id": "Rn8Qxsc7l8TP"
      },
      "execution_count": null,
      "outputs": []
    },
    {
      "cell_type": "markdown",
      "source": [
        "c. Add a prefix to all column names using columns:"
      ],
      "metadata": {
        "id": "Ipv4Tz8wl9db"
      }
    },
    {
      "cell_type": "code",
      "source": [
        "df.columns = ['years', 'person_name']\n",
        "df.columns = 'col_' + df.columns\n",
        "print(df)\n"
      ],
      "metadata": {
        "id": "VBRdaZ3fl_Rq"
      },
      "execution_count": null,
      "outputs": []
    },
    {
      "cell_type": "markdown",
      "source": [
        "**5. combine()**\n",
        "\n",
        "a. Combine two DataFrames by comparing each element and selecting the larger element:"
      ],
      "metadata": {
        "id": "_Nnbn-FtmBgk"
      }
    },
    {
      "cell_type": "code",
      "source": [
        "import pandas as pd\n",
        "import numpy as np\n",
        "df1 = pd.DataFrame([[1, 2], [3, 4]])\n",
        "df2 = pd.DataFrame([[5, 6], [7, 8]])\n",
        "\n",
        "result = df1.combine(df2, lambda a, b: np.where(a > b, a, b))\n",
        "print(result)\n"
      ],
      "metadata": {
        "id": "DZYRbqUFmFD7"
      },
      "execution_count": null,
      "outputs": []
    },
    {
      "cell_type": "markdown",
      "source": [
        "b. Create a function that performs a custom operation while combining two DataFrames:"
      ],
      "metadata": {
        "id": "WDsg2eU8muSk"
      }
    },
    {
      "cell_type": "code",
      "source": [
        "import numpy as np\n",
        "\n",
        "def myfunc(a, b):\n",
        "    return np.where(a > b, a * 2, b * 2)\n",
        "\n",
        "df_combined = df1.combine(df2, myfunc)\n",
        "print(df_combined)\n",
        "\n"
      ],
      "metadata": {
        "id": "zay6cArMmwYT"
      },
      "execution_count": null,
      "outputs": []
    },
    {
      "cell_type": "markdown",
      "source": [
        "c. Combine two DataFrames column-wise and handle NaN values using a custom function:"
      ],
      "metadata": {
        "id": "f_eNv3IQnCxi"
      }
    },
    {
      "cell_type": "code",
      "source": [
        "import pandas as pd\n",
        "\n",
        "df1 = pd.DataFrame([[1, None], [None, 4]])\n",
        "df2 = pd.DataFrame([[5, 6], [7, None]])\n",
        "\n",
        "# Use combine_first to fill NaNs from df1 with corresponding values from df2\n",
        "df_combined = df1.combine_first(df2)\n",
        "print(df_combined)\n"
      ],
      "metadata": {
        "id": "oMbmhHICnDP_"
      },
      "execution_count": null,
      "outputs": []
    },
    {
      "cell_type": "markdown",
      "source": [
        "**6. count()**\n",
        "\n",
        "\n",
        "a. Count the non-null entries in each column of a DataFrame:\n"
      ],
      "metadata": {
        "id": "E20O6oZenbES"
      }
    },
    {
      "cell_type": "code",
      "source": [
        "df = pd.DataFrame({'A': [1, None, 3], 'B': [4, None, None]})\n",
        "print(df.count())\n"
      ],
      "metadata": {
        "id": "VtYnx8fkrbGz"
      },
      "execution_count": null,
      "outputs": []
    },
    {
      "cell_type": "markdown",
      "source": [
        "b. Count non-null values row-wise in a DataFrame:"
      ],
      "metadata": {
        "id": "Q9RxGbo5rdlB"
      }
    },
    {
      "cell_type": "code",
      "source": [
        "print(df.count(axis=1))\n"
      ],
      "metadata": {
        "id": "3x4G8Fm2rfct"
      },
      "execution_count": null,
      "outputs": []
    },
    {
      "cell_type": "markdown",
      "source": [
        "c. Use count() to count occurrences in a grouped DataFrame:"
      ],
      "metadata": {
        "id": "jK7AAfByrhc1"
      }
    },
    {
      "cell_type": "code",
      "source": [
        "df = pd.DataFrame({'age': [25, 30, 25], 'group': ['A', 'B', 'A']})\n",
        "grouped = df.groupby('group').count()\n",
        "print(grouped)\n"
      ],
      "metadata": {
        "id": "TjUXCa3wrh83"
      },
      "execution_count": null,
      "outputs": []
    },
    {
      "cell_type": "markdown",
      "source": [
        "**7. cov()**\n",
        "\n",
        "a. Compute the covariance between two columns in a DataFrame:"
      ],
      "metadata": {
        "id": "Si1GWu3-rmu_"
      }
    },
    {
      "cell_type": "code",
      "source": [
        "df = pd.DataFrame({'A': [1, 2, 3], 'B': [4, 5, 6]})\n",
        "print(df['A'].cov(df['B']))\n"
      ],
      "metadata": {
        "id": "fwEbNqsOrp63"
      },
      "execution_count": null,
      "outputs": []
    },
    {
      "cell_type": "markdown",
      "source": [
        "b. Calculate the covariance matrix for an entire DataFrame:"
      ],
      "metadata": {
        "id": "HGubY-vlrtEn"
      }
    },
    {
      "cell_type": "code",
      "source": [
        "print(df.cov())\n"
      ],
      "metadata": {
        "colab": {
          "base_uri": "https://localhost:8080/"
        },
        "id": "yoBYgaRKrtmz",
        "outputId": "f28d35b4-3a29-40e2-d8b2-9e5dcf637727"
      },
      "execution_count": null,
      "outputs": [
        {
          "output_type": "stream",
          "name": "stdout",
          "text": [
            "     A    B\n",
            "A  1.0  1.0\n",
            "B  1.0  1.0\n"
          ]
        }
      ]
    },
    {
      "cell_type": "markdown",
      "source": [
        "c. Use cov() to find the covariance between different DataFrames:"
      ],
      "metadata": {
        "id": "UG9tDyfirv9J"
      }
    },
    {
      "cell_type": "code",
      "source": [
        "import pandas as pd\n",
        "\n",
        "# Sample DataFrames\n",
        "df1 = pd.DataFrame({'A': [1, 2, 3], 'B': [4, 5, 6]})\n",
        "df2 = pd.DataFrame({'C': [7, 8, 9]})\n",
        "\n",
        "# Calculate covariance between df1['A'] and df2['C']\n",
        "cov_result = df1['A'].cov(df2['C'])\n",
        "print(\"Covariance between df1['A'] and df2['C']:\", cov_result)\n",
        "\n"
      ],
      "metadata": {
        "colab": {
          "base_uri": "https://localhost:8080/"
        },
        "id": "zLdz-GY8rwm5",
        "outputId": "7c3caab2-7efb-404c-9a0c-9b2f946b66fa"
      },
      "execution_count": null,
      "outputs": [
        {
          "output_type": "stream",
          "name": "stdout",
          "text": [
            "Covariance between df1['A'] and df2['C']: 1.0\n"
          ]
        }
      ]
    },
    {
      "cell_type": "markdown",
      "source": [
        "**8. copy()**\n",
        "\n"
      ],
      "metadata": {
        "id": "P0LzrCnjr0Kd"
      }
    },
    {
      "cell_type": "markdown",
      "source": [
        "a. Create a deep copy of a DataFrame and modify it without affecting the original:"
      ],
      "metadata": {
        "id": "vzPTzmZou328"
      }
    },
    {
      "cell_type": "code",
      "source": [
        "import pandas as pd\n",
        "\n",
        "# Original DataFrame\n",
        "df = pd.DataFrame({'A': [1, 2, 3]})\n",
        "\n",
        "# Create a deep copy of the DataFrame\n",
        "df_copy = df.copy()\n",
        "\n",
        "# Modify df_copy using .loc[] to avoid chained assignment\n",
        "df_copy.loc[0, 'A'] = 100\n",
        "\n",
        "# Print both DataFrames to show the difference\n",
        "print(\"Original DataFrame:\")\n",
        "print(df)\n",
        "print(\"\\nModified Copy:\")\n",
        "print(df_copy)\n"
      ],
      "metadata": {
        "colab": {
          "base_uri": "https://localhost:8080/"
        },
        "id": "vO5qaX7Tu4Vy",
        "outputId": "64143eaf-b567-4f84-8199-cc45cd0fe1dc"
      },
      "execution_count": null,
      "outputs": [
        {
          "output_type": "stream",
          "name": "stdout",
          "text": [
            "Original DataFrame:\n",
            "   A\n",
            "0  1\n",
            "1  2\n",
            "2  3\n",
            "\n",
            "Modified Copy:\n",
            "     A\n",
            "0  100\n",
            "1    2\n",
            "2    3\n"
          ]
        }
      ]
    },
    {
      "cell_type": "markdown",
      "source": [
        "b. Make a shallow copy of a DataFrame and observe how changes affect both:"
      ],
      "metadata": {
        "id": "wmU-C_qevGg2"
      }
    },
    {
      "cell_type": "code",
      "source": [
        "import pandas as pd\n",
        "\n",
        "# Original DataFrame\n",
        "df = pd.DataFrame({'A': [1, 2, 3]})\n",
        "\n",
        "# Create a shallow copy of the DataFrame\n",
        "df_copy = df.copy(deep=False)\n",
        "\n",
        "# Modify df_copy (this will also affect df)\n",
        "df_copy.loc[0, 'A'] = 100\n",
        "\n",
        "# Print both DataFrames to observe the effect\n",
        "print(\"Original DataFrame:\")\n",
        "print(df)\n",
        "print(\"\\nShallow Copy:\")\n",
        "print(df_copy)\n",
        "\n"
      ],
      "metadata": {
        "colab": {
          "base_uri": "https://localhost:8080/"
        },
        "id": "86oayClevJ2q",
        "outputId": "253eb409-0966-4711-f647-08bb1ab6d386"
      },
      "execution_count": null,
      "outputs": [
        {
          "output_type": "stream",
          "name": "stdout",
          "text": [
            "Original DataFrame:\n",
            "     A\n",
            "0  100\n",
            "1    2\n",
            "2    3\n",
            "\n",
            "Shallow Copy:\n",
            "     A\n",
            "0  100\n",
            "1    2\n",
            "2    3\n"
          ]
        }
      ]
    },
    {
      "cell_type": "markdown",
      "source": [
        "c. Modify a DataFrame after using copy(deep=False) and explain the behavior:"
      ],
      "metadata": {
        "id": "pB4VlwDivTlV"
      }
    },
    {
      "cell_type": "code",
      "source": [
        "import pandas as pd\n",
        "\n",
        "# Original DataFrame\n",
        "df = pd.DataFrame({'A': [100, 2, 3]})\n",
        "\n",
        "# Create a shallow copy\n",
        "df_copy = df.copy(deep=False)\n",
        "\n",
        "# Modify the shallow copy using .loc[] to avoid the chained assignment warning\n",
        "df_copy.loc[1, 'A'] = 200\n",
        "\n",
        "# Print both DataFrames\n",
        "print(\"Original DataFrame:\")\n",
        "print(df)\n",
        "print(\"\\nShallow Copy:\")\n",
        "print(df_copy)\n",
        "\n"
      ],
      "metadata": {
        "colab": {
          "base_uri": "https://localhost:8080/"
        },
        "id": "DwfgUQX5vVSL",
        "outputId": "f90eb50a-3003-40be-de00-d4b1b9e3d052"
      },
      "execution_count": null,
      "outputs": [
        {
          "output_type": "stream",
          "name": "stdout",
          "text": [
            "Original DataFrame:\n",
            "     A\n",
            "0  100\n",
            "1  200\n",
            "2    3\n",
            "\n",
            "Shallow Copy:\n",
            "     A\n",
            "0  100\n",
            "1  200\n",
            "2    3\n"
          ]
        }
      ]
    },
    {
      "cell_type": "markdown",
      "source": [
        "**9. cummax()**\n",
        "\n",
        "\n",
        "a. Compute the cumulative maximum of a column in a DataFrame:"
      ],
      "metadata": {
        "id": "GlGirhGHvhdt"
      }
    },
    {
      "cell_type": "code",
      "source": [
        "df = pd.DataFrame({'A': [1, 2, 3, 1]})\n",
        "print(df['A'].cummax())\n"
      ],
      "metadata": {
        "colab": {
          "base_uri": "https://localhost:8080/"
        },
        "id": "y3TUzVWsvnid",
        "outputId": "5c3d2a48-2d96-4e44-8bc4-6d7ed2bf744c"
      },
      "execution_count": null,
      "outputs": [
        {
          "output_type": "stream",
          "name": "stdout",
          "text": [
            "0    1\n",
            "1    2\n",
            "2    3\n",
            "3    3\n",
            "Name: A, dtype: int64\n"
          ]
        }
      ]
    },
    {
      "cell_type": "markdown",
      "source": [
        "b. Apply cummax() row-wise across multiple columns:"
      ],
      "metadata": {
        "id": "V-hajUCCvpvN"
      }
    },
    {
      "cell_type": "code",
      "source": [
        "df = pd.DataFrame({'A': [1, 2, 3], 'B': [4, 3, 2]})\n",
        "print(df.cummax(axis=1))\n"
      ],
      "metadata": {
        "colab": {
          "base_uri": "https://localhost:8080/"
        },
        "id": "_nYKLdqUvqI3",
        "outputId": "6cde50d9-1ad1-45ac-d2df-ad748b4ddc1b"
      },
      "execution_count": null,
      "outputs": [
        {
          "output_type": "stream",
          "name": "stdout",
          "text": [
            "   A  B\n",
            "0  1  4\n",
            "1  2  3\n",
            "2  3  3\n"
          ]
        }
      ]
    },
    {
      "cell_type": "markdown",
      "source": [
        "c. Use cummax() to find the cumulative maximum of a Series containing both positive and negative values:"
      ],
      "metadata": {
        "id": "208SqAsLvsas"
      }
    },
    {
      "cell_type": "code",
      "source": [
        "series = pd.Series([1, -2, 3, -4])\n",
        "print(series.cummax())\n"
      ],
      "metadata": {
        "colab": {
          "base_uri": "https://localhost:8080/"
        },
        "id": "jiNBrhfvvtNG",
        "outputId": "f2fd9723-84ed-48f2-b3fd-4413e5734d3b"
      },
      "execution_count": null,
      "outputs": [
        {
          "output_type": "stream",
          "name": "stdout",
          "text": [
            "0    1\n",
            "1    1\n",
            "2    3\n",
            "3    3\n",
            "dtype: int64\n"
          ]
        }
      ]
    },
    {
      "cell_type": "markdown",
      "source": [
        "**10. explode()**\n",
        "\n",
        "a. Create a DataFrame where one column contains lists, then use explode() to flatten it:"
      ],
      "metadata": {
        "id": "N6xC47aSvvRQ"
      }
    },
    {
      "cell_type": "code",
      "source": [
        "df = pd.DataFrame({'A': [[1, 2], [3, 4]]})\n",
        "df_exploded = df.explode('A')\n",
        "print(df_exploded)\n"
      ],
      "metadata": {
        "colab": {
          "base_uri": "https://localhost:8080/"
        },
        "id": "p-md9xbwvx3o",
        "outputId": "7788569e-c2f5-4947-ade7-22a5ea8c280b"
      },
      "execution_count": null,
      "outputs": [
        {
          "output_type": "stream",
          "name": "stdout",
          "text": [
            "   A\n",
            "0  1\n",
            "0  2\n",
            "1  3\n",
            "1  4\n"
          ]
        }
      ]
    },
    {
      "cell_type": "markdown",
      "source": [
        "b. Apply explode() to a column with strings and lists mixed together:"
      ],
      "metadata": {
        "id": "hcoTBbEkvz54"
      }
    },
    {
      "cell_type": "code",
      "source": [
        "df = pd.DataFrame({'A': [[1, 2], 'Not a List']})\n",
        "df_exploded = df.explode('A')\n",
        "print(df_exploded)\n"
      ],
      "metadata": {
        "colab": {
          "base_uri": "https://localhost:8080/"
        },
        "id": "O69l4mE5v0Se",
        "outputId": "175ba053-c528-4d6a-bd11-f9950f1837fb"
      },
      "execution_count": null,
      "outputs": [
        {
          "output_type": "stream",
          "name": "stdout",
          "text": [
            "            A\n",
            "0           1\n",
            "0           2\n",
            "1  Not a List\n"
          ]
        }
      ]
    },
    {
      "cell_type": "markdown",
      "source": [
        "c. Use explode() on a multi-index DataFrame:"
      ],
      "metadata": {
        "id": "UxH7dqy5v2cW"
      }
    },
    {
      "cell_type": "code",
      "source": [
        "df = pd.DataFrame({'A': [[1, 2], [3, 4]], 'B': ['x', 'y']})\n",
        "df.set_index(['B'], inplace=True)\n",
        "df_exploded = df.explode('A')\n",
        "print(df_exploded)\n"
      ],
      "metadata": {
        "colab": {
          "base_uri": "https://localhost:8080/"
        },
        "id": "YxeLLuQyv23e",
        "outputId": "895739c0-8bc1-420f-c335-98692c81c77b"
      },
      "execution_count": null,
      "outputs": [
        {
          "output_type": "stream",
          "name": "stdout",
          "text": [
            "   A\n",
            "B   \n",
            "x  1\n",
            "x  2\n",
            "y  3\n",
            "y  4\n"
          ]
        }
      ]
    },
    {
      "cell_type": "markdown",
      "source": [
        "**11. ffill()**\n",
        "\n",
        "a. Create a DataFrame with missing values and fill forward using ffill():"
      ],
      "metadata": {
        "id": "GR-l812lwBPc"
      }
    },
    {
      "cell_type": "code",
      "source": [
        "import pandas as pd\n",
        "\n",
        "df = pd.DataFrame({'A': [1, None, 3], 'B': [None, 5, 6]})\n",
        "df_filled = df.ffill()\n",
        "print(df_filled)\n"
      ],
      "metadata": {
        "colab": {
          "base_uri": "https://localhost:8080/"
        },
        "id": "uRIL95MvwEOn",
        "outputId": "4be35f4d-c649-4caf-8e72-979984cb99f2"
      },
      "execution_count": null,
      "outputs": [
        {
          "output_type": "stream",
          "name": "stdout",
          "text": [
            "     A    B\n",
            "0  1.0  NaN\n",
            "1  1.0  5.0\n",
            "2  3.0  6.0\n"
          ]
        }
      ]
    },
    {
      "cell_type": "markdown",
      "source": [
        "b. Use ffill() to propagate the last valid observation row-wise:"
      ],
      "metadata": {
        "id": "IArcTBbtwJOt"
      }
    },
    {
      "cell_type": "code",
      "source": [
        "df_filled = df.ffill(axis=1)\n",
        "print(df_filled)\n"
      ],
      "metadata": {
        "colab": {
          "base_uri": "https://localhost:8080/"
        },
        "id": "sUOYvxPwwJ8Z",
        "outputId": "08c1fb40-7163-4ef4-e831-24e1b384156f"
      },
      "execution_count": null,
      "outputs": [
        {
          "output_type": "stream",
          "name": "stdout",
          "text": [
            "     A    B\n",
            "0  1.0  1.0\n",
            "1  NaN  5.0\n",
            "2  3.0  6.0\n"
          ]
        }
      ]
    },
    {
      "cell_type": "markdown",
      "source": [
        "c. Limit the number of forward fills to 1:"
      ],
      "metadata": {
        "id": "HdMUItdsynON"
      }
    },
    {
      "cell_type": "code",
      "source": [
        "df_filled = df.ffill(limit=1)\n",
        "print(df_filled)\n"
      ],
      "metadata": {
        "colab": {
          "base_uri": "https://localhost:8080/"
        },
        "id": "CzYX94fvynog",
        "outputId": "c6976135-fde9-4414-b031-1f0a263111c0"
      },
      "execution_count": null,
      "outputs": [
        {
          "output_type": "stream",
          "name": "stdout",
          "text": [
            "     A    B\n",
            "0  1.0  NaN\n",
            "1  1.0  5.0\n",
            "2  3.0  6.0\n"
          ]
        }
      ]
    },
    {
      "cell_type": "markdown",
      "source": [
        "**12. isna()**\n",
        "\n",
        "a. Create a DataFrame and use isna() to detect missing values:\n"
      ],
      "metadata": {
        "id": "gaC55cQ5yqkn"
      }
    },
    {
      "cell_type": "code",
      "source": [
        "df = pd.DataFrame({'A': [1, None, 3], 'B': [4, None, None]})\n",
        "print(df.isna())\n"
      ],
      "metadata": {
        "colab": {
          "base_uri": "https://localhost:8080/"
        },
        "id": "dVOoB0mdytYq",
        "outputId": "c475cd35-3d46-4879-cf66-bed49c22056c"
      },
      "execution_count": null,
      "outputs": [
        {
          "output_type": "stream",
          "name": "stdout",
          "text": [
            "       A      B\n",
            "0  False  False\n",
            "1   True   True\n",
            "2  False   True\n"
          ]
        }
      ]
    },
    {
      "cell_type": "markdown",
      "source": [
        "b. Count the total number of missing values in each column using isna():"
      ],
      "metadata": {
        "id": "rFvqaV-ayvm6"
      }
    },
    {
      "cell_type": "code",
      "source": [
        "print(df.isna().sum())\n"
      ],
      "metadata": {
        "colab": {
          "base_uri": "https://localhost:8080/"
        },
        "id": "DGYmjuXTywMo",
        "outputId": "0f29670b-2315-433c-ac23-2d1e58d1bf47"
      },
      "execution_count": null,
      "outputs": [
        {
          "output_type": "stream",
          "name": "stdout",
          "text": [
            "A    1\n",
            "B    2\n",
            "dtype: int64\n"
          ]
        }
      ]
    },
    {
      "cell_type": "markdown",
      "source": [
        "c. Replace missing values based on the result of isna():"
      ],
      "metadata": {
        "id": "KpOFGC4PyyGX"
      }
    },
    {
      "cell_type": "code",
      "source": [
        "df_filled = df.fillna(0)\n",
        "print(df_filled)\n"
      ],
      "metadata": {
        "colab": {
          "base_uri": "https://localhost:8080/"
        },
        "id": "9nvbMGuqyyjK",
        "outputId": "faba6a67-2a3f-485f-96dd-3db96f9f6fd5"
      },
      "execution_count": null,
      "outputs": [
        {
          "output_type": "stream",
          "name": "stdout",
          "text": [
            "     A    B\n",
            "0  1.0  4.0\n",
            "1  0.0  0.0\n",
            "2  3.0  0.0\n"
          ]
        }
      ]
    },
    {
      "cell_type": "markdown",
      "source": [
        "**13. items()**\n",
        "\n",
        "a. Use items() to iterate over each column in a DataFrame:"
      ],
      "metadata": {
        "id": "pygLSacSy1Av"
      }
    },
    {
      "cell_type": "code",
      "source": [
        "df = pd.DataFrame({'A': [1, 2, 3], 'B': [4, 5, 6]})\n",
        "for col_name, col_data in df.items():\n",
        "    print(f\"Column: {col_name}\")\n",
        "    print(col_data)\n"
      ],
      "metadata": {
        "colab": {
          "base_uri": "https://localhost:8080/"
        },
        "id": "_paek5HNy5XC",
        "outputId": "dab45043-a97c-4c9e-a650-8b48ed096ce1"
      },
      "execution_count": null,
      "outputs": [
        {
          "output_type": "stream",
          "name": "stdout",
          "text": [
            "Column: A\n",
            "0    1\n",
            "1    2\n",
            "2    3\n",
            "Name: A, dtype: int64\n",
            "Column: B\n",
            "0    4\n",
            "1    5\n",
            "2    6\n",
            "Name: B, dtype: int64\n"
          ]
        }
      ]
    },
    {
      "cell_type": "markdown",
      "source": [
        "b. Modify the values of a DataFrame by iterating with items():"
      ],
      "metadata": {
        "id": "_hcx-avmy7eQ"
      }
    },
    {
      "cell_type": "code",
      "source": [
        "for col_name, col_data in df.items():\n",
        "    df[col_name] = col_data * 2\n",
        "print(df)\n"
      ],
      "metadata": {
        "colab": {
          "base_uri": "https://localhost:8080/"
        },
        "id": "wLK0Ztp1y8iP",
        "outputId": "52d3550d-dd3c-4562-e1fc-275d171c7361"
      },
      "execution_count": null,
      "outputs": [
        {
          "output_type": "stream",
          "name": "stdout",
          "text": [
            "   A   B\n",
            "0  2   8\n",
            "1  4  10\n",
            "2  6  12\n"
          ]
        }
      ]
    },
    {
      "cell_type": "markdown",
      "source": [
        "c. Combine values from two columns using items():"
      ],
      "metadata": {
        "id": "00oH8fZEy-BC"
      }
    },
    {
      "cell_type": "code",
      "source": [
        "for col_name, col_data in df.items():\n",
        "    if col_name == 'A':\n",
        "        df[col_name] = col_data + df['B']\n",
        "print(df)\n"
      ],
      "metadata": {
        "colab": {
          "base_uri": "https://localhost:8080/"
        },
        "id": "7FRlMrXDy_WP",
        "outputId": "4527107b-c00e-4e30-e645-a62e51fdcdb2"
      },
      "execution_count": null,
      "outputs": [
        {
          "output_type": "stream",
          "name": "stdout",
          "text": [
            "    A   B\n",
            "0  10   8\n",
            "1  14  10\n",
            "2  18  12\n"
          ]
        }
      ]
    },
    {
      "cell_type": "markdown",
      "source": [
        "**14. nunique()**\n",
        "\n",
        "a. Find the number of unique values in each column of a DataFrame:"
      ],
      "metadata": {
        "id": "Fi07FOjuzBTh"
      }
    },
    {
      "cell_type": "code",
      "source": [
        "df = pd.DataFrame({'A': [1, 1, 2, 3], 'B': [4, 5, 5, 6]})\n",
        "print(df.nunique())\n"
      ],
      "metadata": {
        "colab": {
          "base_uri": "https://localhost:8080/"
        },
        "id": "m_jOjlRgzE0U",
        "outputId": "612bf667-d9c9-443b-e8b1-715a6a5cf2d5"
      },
      "execution_count": null,
      "outputs": [
        {
          "output_type": "stream",
          "name": "stdout",
          "text": [
            "A    3\n",
            "B    3\n",
            "dtype: int64\n"
          ]
        }
      ]
    },
    {
      "cell_type": "markdown",
      "source": [
        "b. Count unique values for each row:"
      ],
      "metadata": {
        "id": "TF2sYDPizG97"
      }
    },
    {
      "cell_type": "code",
      "source": [
        "print(df.nunique(axis=1))\n"
      ],
      "metadata": {
        "colab": {
          "base_uri": "https://localhost:8080/"
        },
        "id": "WVyEXqogzHRI",
        "outputId": "22b78619-af62-4eba-d530-9bc4bb0241c6"
      },
      "execution_count": null,
      "outputs": [
        {
          "output_type": "stream",
          "name": "stdout",
          "text": [
            "0    2\n",
            "1    2\n",
            "2    2\n",
            "3    2\n",
            "dtype: int64\n"
          ]
        }
      ]
    },
    {
      "cell_type": "markdown",
      "source": [
        "c. Find unique values in a DataFrame with missing values:"
      ],
      "metadata": {
        "id": "3mlFCRsxzKjr"
      }
    },
    {
      "cell_type": "code",
      "source": [
        "df = pd.DataFrame({'A': [1, 2, None], 'B': [4, 5, 6]})\n",
        "print(df.nunique(dropna=False))\n"
      ],
      "metadata": {
        "colab": {
          "base_uri": "https://localhost:8080/"
        },
        "id": "8jD79HtYzK8B",
        "outputId": "7785d787-5292-4393-fcef-367ab31d6cdf"
      },
      "execution_count": null,
      "outputs": [
        {
          "output_type": "stream",
          "name": "stdout",
          "text": [
            "A    3\n",
            "B    3\n",
            "dtype: int64\n"
          ]
        }
      ]
    },
    {
      "cell_type": "markdown",
      "source": [
        "**15. sample()**\n",
        "\n",
        "a. Select a random sample of 3 rows from a DataFrame:"
      ],
      "metadata": {
        "id": "Dhy2uuNOzfZY"
      }
    },
    {
      "cell_type": "code",
      "source": [
        "df = pd.DataFrame({'A': range(10), 'B': range(10, 20)})\n",
        "sampled_df = df.sample(n=3)\n",
        "print(sampled_df)\n"
      ],
      "metadata": {
        "colab": {
          "base_uri": "https://localhost:8080/"
        },
        "id": "e0A71qsTzh8-",
        "outputId": "320d20ae-31d9-4cc0-f2d0-e835e672b122"
      },
      "execution_count": null,
      "outputs": [
        {
          "output_type": "stream",
          "name": "stdout",
          "text": [
            "   A   B\n",
            "7  7  17\n",
            "9  9  19\n",
            "6  6  16\n"
          ]
        }
      ]
    },
    {
      "cell_type": "markdown",
      "source": [
        "b. Randomly sample 50% of the rows:"
      ],
      "metadata": {
        "id": "SK48nVlXzkAv"
      }
    },
    {
      "cell_type": "code",
      "source": [
        "sampled_df = df.sample(frac=0.5)\n",
        "print(sampled_df)\n"
      ],
      "metadata": {
        "id": "3qQK9S0HzkdN",
        "colab": {
          "base_uri": "https://localhost:8080/"
        },
        "outputId": "9640a8ea-3af0-4fa3-caae-049be5a26ef4"
      },
      "execution_count": 58,
      "outputs": [
        {
          "output_type": "stream",
          "name": "stdout",
          "text": [
            "   A  B\n",
            "1  2  5\n",
            "2  3  6\n"
          ]
        }
      ]
    },
    {
      "cell_type": "markdown",
      "source": [
        "c. Sample with replacement:"
      ],
      "metadata": {
        "id": "S4nD5pe3znsJ"
      }
    },
    {
      "cell_type": "code",
      "source": [
        "sampled_df = df.sample(n=5, replace=True)\n",
        "print(sampled_df)\n"
      ],
      "metadata": {
        "id": "qJ7kN0Jgzpz5",
        "colab": {
          "base_uri": "https://localhost:8080/"
        },
        "outputId": "d0fc2210-5fbb-403d-f0b3-8f288089c653"
      },
      "execution_count": 59,
      "outputs": [
        {
          "output_type": "stream",
          "name": "stdout",
          "text": [
            "   A  B\n",
            "1  2  5\n",
            "2  3  6\n",
            "1  2  5\n",
            "0  1  4\n",
            "1  2  5\n"
          ]
        }
      ]
    },
    {
      "cell_type": "markdown",
      "source": [
        "**16. take()**\n",
        "\n",
        "a. Select specific rows using their indices with take():"
      ],
      "metadata": {
        "id": "Env5Smn1zuVj"
      }
    },
    {
      "cell_type": "code",
      "source": [
        "df = pd.DataFrame({'A': [1, 2, 3], 'B': [4, 5, 6]})\n",
        "print(df.take([0, 2]))\n"
      ],
      "metadata": {
        "id": "lu4iwtFGzvJN",
        "colab": {
          "base_uri": "https://localhost:8080/"
        },
        "outputId": "2182df29-d246-4bae-b458-7a5a30880252"
      },
      "execution_count": 57,
      "outputs": [
        {
          "output_type": "stream",
          "name": "stdout",
          "text": [
            "   A  B\n",
            "0  1  4\n",
            "2  3  6\n"
          ]
        }
      ]
    },
    {
      "cell_type": "markdown",
      "source": [
        "b. Use take() to reorder rows in a DataFrame:"
      ],
      "metadata": {
        "id": "Zoy4GRUQz2c-"
      }
    },
    {
      "cell_type": "code",
      "source": [
        "print(df.take([2, 0, 1]))\n"
      ],
      "metadata": {
        "id": "JB1LAhtJz3EC",
        "colab": {
          "base_uri": "https://localhost:8080/"
        },
        "outputId": "8bf63bfa-1bc7-4af9-f85d-397f537d599e"
      },
      "execution_count": 60,
      "outputs": [
        {
          "output_type": "stream",
          "name": "stdout",
          "text": [
            "   A  B\n",
            "2  3  6\n",
            "0  1  4\n",
            "1  2  5\n"
          ]
        }
      ]
    },
    {
      "cell_type": "markdown",
      "source": [
        "c. Take multiple elements from a Pandas Series:"
      ],
      "metadata": {
        "id": "SxDp70tP0-mn"
      }
    },
    {
      "cell_type": "code",
      "source": [
        "series = pd.Series([1, 2, 3, 4])\n",
        "print(series.take([0, 3]))\n"
      ],
      "metadata": {
        "colab": {
          "base_uri": "https://localhost:8080/"
        },
        "id": "o29WxFWe0_Ye",
        "outputId": "ed67253d-913a-420e-f9b8-99e44df7196d"
      },
      "execution_count": 61,
      "outputs": [
        {
          "output_type": "stream",
          "name": "stdout",
          "text": [
            "0    1\n",
            "3    4\n",
            "dtype: int64\n"
          ]
        }
      ]
    },
    {
      "cell_type": "markdown",
      "source": [
        "**17. groupby()**\n",
        "\n",
        "a. Group by a column and find the mean of another column:"
      ],
      "metadata": {
        "id": "HCCxyr381Bbu"
      }
    },
    {
      "cell_type": "code",
      "source": [
        "df = pd.DataFrame({'group': ['A', 'B', 'A', 'B'], 'value': [1, 2, 3, 4]})\n",
        "grouped = df.groupby('group').mean()\n",
        "print(grouped)\n"
      ],
      "metadata": {
        "colab": {
          "base_uri": "https://localhost:8080/"
        },
        "id": "Lk0b4Pzu1EIu",
        "outputId": "7358bf8b-2065-4ced-eb6a-a8cdb71a23ae"
      },
      "execution_count": 62,
      "outputs": [
        {
          "output_type": "stream",
          "name": "stdout",
          "text": [
            "       value\n",
            "group       \n",
            "A        2.0\n",
            "B        3.0\n"
          ]
        }
      ]
    },
    {
      "cell_type": "markdown",
      "source": [
        "b. Group by multiple columns and calculate the sum:"
      ],
      "metadata": {
        "id": "xmpJNN-a1GVy"
      }
    },
    {
      "cell_type": "code",
      "source": [
        "df = pd.DataFrame({'A': ['foo', 'bar', 'foo'], 'B': ['one', 'one', 'two'], 'C': [1, 2, 3]})\n",
        "grouped = df.groupby(['A', 'B']).sum()\n",
        "print(grouped)\n"
      ],
      "metadata": {
        "colab": {
          "base_uri": "https://localhost:8080/"
        },
        "id": "zUYpiAtD1GwF",
        "outputId": "cc7f2be6-b646-441b-c032-98e9093f7dfa"
      },
      "execution_count": 63,
      "outputs": [
        {
          "output_type": "stream",
          "name": "stdout",
          "text": [
            "         C\n",
            "A   B     \n",
            "bar one  2\n",
            "foo one  1\n",
            "    two  3\n"
          ]
        }
      ]
    },
    {
      "cell_type": "markdown",
      "source": [
        "c. Group by a column and use an aggregation function:"
      ],
      "metadata": {
        "id": "57kUqiXv1hZg"
      }
    },
    {
      "cell_type": "code",
      "source": [
        "grouped = df.groupby('A').agg({'C': ['min', 'max', 'mean']})\n",
        "print(grouped)\n"
      ],
      "metadata": {
        "colab": {
          "base_uri": "https://localhost:8080/"
        },
        "id": "5mOz62hQ1h9G",
        "outputId": "16b70843-2ec7-4337-ff34-6925785943f8"
      },
      "execution_count": 64,
      "outputs": [
        {
          "output_type": "stream",
          "name": "stdout",
          "text": [
            "      C         \n",
            "    min max mean\n",
            "A               \n",
            "bar   2   2  2.0\n",
            "foo   1   3  2.0\n"
          ]
        }
      ]
    },
    {
      "cell_type": "markdown",
      "source": [
        "**18. round()**\n",
        "\n",
        "a. Round values in a DataFrame to 1 decimal place:\n"
      ],
      "metadata": {
        "id": "kPkWx8rl1j50"
      }
    },
    {
      "cell_type": "code",
      "source": [
        "df = pd.DataFrame({'A': [1.123, 2.456], 'B': [3.789, 4.012]})\n",
        "df_rounded = df.round(1)\n",
        "print(df_rounded)\n"
      ],
      "metadata": {
        "colab": {
          "base_uri": "https://localhost:8080/"
        },
        "id": "FHGt3zNn1mmW",
        "outputId": "af719adf-8788-44e0-fb61-4be44fb537b0"
      },
      "execution_count": 65,
      "outputs": [
        {
          "output_type": "stream",
          "name": "stdout",
          "text": [
            "     A    B\n",
            "0  1.1  3.8\n",
            "1  2.5  4.0\n"
          ]
        }
      ]
    },
    {
      "cell_type": "markdown",
      "source": [
        "b. Round values to different decimals for different columns:"
      ],
      "metadata": {
        "id": "O0xWiKZJ1oZo"
      }
    },
    {
      "cell_type": "code",
      "source": [
        "df_rounded = df.round({'A': 0, 'B': 2})\n",
        "print(df_rounded)\n"
      ],
      "metadata": {
        "colab": {
          "base_uri": "https://localhost:8080/"
        },
        "id": "yFR6jGZo1pRC",
        "outputId": "85fc0005-957a-4dfb-ddf6-ba0b5699ef38"
      },
      "execution_count": 66,
      "outputs": [
        {
          "output_type": "stream",
          "name": "stdout",
          "text": [
            "     A     B\n",
            "0  1.0  3.79\n",
            "1  2.0  4.01\n"
          ]
        }
      ]
    },
    {
      "cell_type": "markdown",
      "source": [
        "c. Round values in a Series:"
      ],
      "metadata": {
        "id": "J0ytyCXd1rKS"
      }
    },
    {
      "cell_type": "code",
      "source": [
        "series = pd.Series([1.234, 5.678, 9.123])\n",
        "series_rounded = series.round(2)\n",
        "print(series_rounded)\n"
      ],
      "metadata": {
        "colab": {
          "base_uri": "https://localhost:8080/"
        },
        "id": "Muc2Aqy41rsi",
        "outputId": "d71d51ac-bbb7-44fc-f945-abe16b0362aa"
      },
      "execution_count": 67,
      "outputs": [
        {
          "output_type": "stream",
          "name": "stdout",
          "text": [
            "0    1.23\n",
            "1    5.68\n",
            "2    9.12\n",
            "dtype: float64\n"
          ]
        }
      ]
    }
  ]
}