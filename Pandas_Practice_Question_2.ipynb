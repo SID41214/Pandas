{
  "cells": [
    {
      "cell_type": "markdown",
      "metadata": {
        "id": "DBVfnXAYaqy0"
      },
      "source": [
        "1.Create a Pandas Series from a list and calculate its absolute values using the abs() function:"
      ]
    },
    {
      "cell_type": "code",
      "execution_count": 14,
      "metadata": {
        "colab": {
          "base_uri": "https://localhost:8080/"
        },
        "id": "MU3wzprkakJP",
        "outputId": "15f548f1-8e17-4fa7-9f9f-e08865119d87"
      },
      "outputs": [
        {
          "name": "stdout",
          "output_type": "stream",
          "text": [
            "0    1\n",
            "1    2\n",
            "2    3\n",
            "3    4\n",
            "dtype: int64\n"
          ]
        }
      ],
      "source": [
        "import pandas as pd\n",
        "series = pd.Series([-1, -2, 3, -4])\n",
        "result = series.abs()\n",
        "print(result)\n"
      ]
    },
    {
      "cell_type": "markdown",
      "metadata": {
        "id": "fA4Eo-NYavDN"
      },
      "source": [
        "2.Create a Pandas Series and use the map() function to replace all occurrences of one value with another:"
      ]
    },
    {
      "cell_type": "code",
      "execution_count": 15,
      "metadata": {
        "colab": {
          "base_uri": "https://localhost:8080/"
        },
        "id": "pFrcYeRIaxpW",
        "outputId": "2030581e-e505-42b4-9d78-a9fabafbd9c4"
      },
      "outputs": [
        {
          "name": "stdout",
          "output_type": "stream",
          "text": [
            "0    10.0\n",
            "1     NaN\n",
            "2     NaN\n",
            "3    10.0\n",
            "dtype: float64\n"
          ]
        }
      ],
      "source": [
        "series = pd.Series([1, 2, 3, 1])\n",
        "result = series.map({1: 10})\n",
        "print(result)\n"
      ]
    },
    {
      "cell_type": "code",
      "execution_count": 44,
      "metadata": {
        "colab": {
          "base_uri": "https://localhost:8080/"
        },
        "id": "OnQ9HppySdNM",
        "outputId": "d78c8156-3b79-4f7d-fbbb-be396dbe7c15"
      },
      "outputs": [
        {
          "name": "stdout",
          "output_type": "stream",
          "text": [
            "0    10.0\n",
            "1     2.0\n",
            "2     3.0\n",
            "3    10.0\n",
            "dtype: float64\n"
          ]
        }
      ],
      "source": [
        "import pandas as pd\n",
        "\n",
        "# Create a Pandas Series\n",
        "series = pd.Series([1, 2, 3, 1])\n",
        "\n",
        "# Use map() to replace occurrences of 1 with 10\n",
        "# and fill the remaining values with their original values\n",
        "result = series.map({1: 10}).fillna(series)\n",
        "\n",
        "print(result)\n"
      ]
    },
    {
      "cell_type": "markdown",
      "metadata": {
        "id": "u76LBCyRa0Yr"
      },
      "source": [
        "3.Create a Series of numbers and add 5 to each element using the add() function:"
      ]
    },
    {
      "cell_type": "code",
      "execution_count": 16,
      "metadata": {
        "colab": {
          "base_uri": "https://localhost:8080/"
        },
        "id": "Y8jKqADYa20M",
        "outputId": "fef3952e-0b75-44cc-952f-666b38decc65"
      },
      "outputs": [
        {
          "name": "stdout",
          "output_type": "stream",
          "text": [
            "0    15\n",
            "1    25\n",
            "2    35\n",
            "dtype: int64\n"
          ]
        }
      ],
      "source": [
        "series = pd.Series([10, 20, 30])\n",
        "result = series.add(5)\n",
        "print(result)\n"
      ]
    },
    {
      "cell_type": "markdown",
      "metadata": {
        "id": "RYjjO3dBw5sa"
      },
      "source": [
        "4.Create a DataFrame with 3 columns. Use the add_prefix() method to add the prefix \"Col_\" to each column name."
      ]
    },
    {
      "cell_type": "code",
      "execution_count": 17,
      "metadata": {
        "colab": {
          "base_uri": "https://localhost:8080/"
        },
        "id": "xYs6mZIYw7fv",
        "outputId": "25755103-ae6b-44f0-9a4a-f580549a9cdb"
      },
      "outputs": [
        {
          "name": "stdout",
          "output_type": "stream",
          "text": [
            "   Col_A  Col_B\n",
            "0      1      3\n",
            "1      2      4\n"
          ]
        }
      ],
      "source": [
        "df = pd.DataFrame({'A': [1, 2], 'B': [3, 4]})\n",
        "new_df = df.add_prefix(\"Col_\")\n",
        "print(new_df)\n"
      ]
    },
    {
      "cell_type": "markdown",
      "metadata": {
        "id": "TIEj8pDfxBcY"
      },
      "source": [
        "5.Calculate the covariance matrix using the cov() method:"
      ]
    },
    {
      "cell_type": "code",
      "execution_count": 18,
      "metadata": {
        "colab": {
          "base_uri": "https://localhost:8080/"
        },
        "id": "-FdYLeTvxGk3",
        "outputId": "eb87ca97-5b0b-4714-bf2c-ec7dddb4986e"
      },
      "outputs": [
        {
          "name": "stdout",
          "output_type": "stream",
          "text": [
            "     A    B\n",
            "A  1.0  1.0\n",
            "B  1.0  1.0\n"
          ]
        }
      ],
      "source": [
        "df = pd.DataFrame({'A': [1, 2, 3], 'B': [4, 5, 6]})\n",
        "print(df.cov())\n"
      ]
    },
    {
      "cell_type": "markdown",
      "metadata": {
        "id": "Jo5_5DDOxIsr"
      },
      "source": [
        "6.Replace missing values using the bfill() method:"
      ]
    },
    {
      "cell_type": "code",
      "execution_count": 19,
      "metadata": {
        "colab": {
          "base_uri": "https://localhost:8080/"
        },
        "id": "MMXQXPZ6xLlO",
        "outputId": "5e1351a2-b8d0-419b-e2eb-d2018a95dd58"
      },
      "outputs": [
        {
          "name": "stdout",
          "output_type": "stream",
          "text": [
            "     A    B\n",
            "0  1.0  5.0\n",
            "1  3.0  5.0\n",
            "2  3.0  NaN\n"
          ]
        }
      ],
      "source": [
        "df = pd.DataFrame({'A': [1, None, 3], 'B': [None, 5, None]})\n",
        "df_filled = df.bfill()\n",
        "print(df_filled)\n"
      ]
    },
    {
      "cell_type": "markdown",
      "metadata": {
        "id": "IIRwItg3xNyK"
      },
      "source": [
        "7.Convert a specific column in a DataFrame to integers using the astype() method:"
      ]
    },
    {
      "cell_type": "code",
      "execution_count": 20,
      "metadata": {
        "colab": {
          "base_uri": "https://localhost:8080/"
        },
        "id": "9mmBVbn_xRSu",
        "outputId": "cbc7df07-9c25-4512-d616-76d414488af6"
      },
      "outputs": [
        {
          "name": "stdout",
          "output_type": "stream",
          "text": [
            "   A\n",
            "0  1\n",
            "1  2\n",
            "2  3\n"
          ]
        }
      ],
      "source": [
        "df = pd.DataFrame({'A': [1.5, 2.5, 3.5]})\n",
        "df['A'] = df['A'].astype(int)\n",
        "print(df)\n"
      ]
    },
    {
      "cell_type": "markdown",
      "metadata": {
        "id": "_vSmMPC5xUQU"
      },
      "source": [
        "8.Use the at property to modify a specific value in a DataFrame:"
      ]
    },
    {
      "cell_type": "code",
      "execution_count": 21,
      "metadata": {
        "colab": {
          "base_uri": "https://localhost:8080/"
        },
        "id": "IWc1NjL1xWp6",
        "outputId": "396e2fab-59d7-440f-da47-d75ec79fa9c1"
      },
      "outputs": [
        {
          "name": "stdout",
          "output_type": "stream",
          "text": [
            "    A  B\n",
            "0  10  4\n",
            "1   2  5\n",
            "2   3  6\n"
          ]
        }
      ],
      "source": [
        "df = pd.DataFrame({'A': [1, 2, 3], 'B': [4, 5, 6]})\n",
        "df.at[0, 'A'] = 10\n",
        "print(df)\n"
      ]
    },
    {
      "cell_type": "markdown",
      "metadata": {
        "id": "aHuqb4L4xY8W"
      },
      "source": [
        "9.Count the number of non-null values in each column using the count() method:"
      ]
    },
    {
      "cell_type": "code",
      "execution_count": 22,
      "metadata": {
        "colab": {
          "base_uri": "https://localhost:8080/"
        },
        "id": "ATo-FOlRxcOr",
        "outputId": "3efe2d49-8f84-41fb-b965-f5254649d836"
      },
      "outputs": [
        {
          "name": "stdout",
          "output_type": "stream",
          "text": [
            "A    2\n",
            "B    2\n",
            "dtype: int64\n"
          ]
        }
      ],
      "source": [
        "df = pd.DataFrame({'A': [1, None, 3], 'B': [4, 5, None]})\n",
        "print(df.count())\n"
      ]
    },
    {
      "cell_type": "markdown",
      "metadata": {
        "id": "kxBlq_6Ixxxm"
      },
      "source": [
        "10.Use the all() method to check if all values in a column are greater than a given number:"
      ]
    },
    {
      "cell_type": "code",
      "execution_count": 23,
      "metadata": {
        "colab": {
          "base_uri": "https://localhost:8080/"
        },
        "id": "Su6ODm6sx1Qi",
        "outputId": "67b0f0db-00b3-4a39-d177-eeeb0c594087"
      },
      "outputs": [
        {
          "name": "stdout",
          "output_type": "stream",
          "text": [
            "True\n"
          ]
        }
      ],
      "source": [
        "df = pd.DataFrame({'A': [10, 20, 30]})\n",
        "result = (df['A'] > 5).all()\n",
        "print(result)\n"
      ]
    },
    {
      "cell_type": "markdown",
      "metadata": {
        "id": "NDJm8cDkyJxJ"
      },
      "source": [
        "11.\n",
        "Use the any() method to check if any value in a column meets a condition:"
      ]
    },
    {
      "cell_type": "code",
      "execution_count": 24,
      "metadata": {
        "colab": {
          "base_uri": "https://localhost:8080/"
        },
        "id": "npT68FYHyOyc",
        "outputId": "9dabad56-94a8-4f28-8610-4da4ada8fbf1"
      },
      "outputs": [
        {
          "name": "stdout",
          "output_type": "stream",
          "text": [
            "True\n"
          ]
        }
      ],
      "source": [
        "df = pd.DataFrame({'A': [10, 5, 30]})\n",
        "result = (df['A'] > 25).any()\n",
        "print(result)\n"
      ]
    },
    {
      "cell_type": "markdown",
      "metadata": {
        "id": "3_e7X1ioyRP6"
      },
      "source": [
        "12.Read a CSV file and display the first 10 rows:"
      ]
    },
    {
      "cell_type": "code",
      "execution_count": 25,
      "metadata": {
        "colab": {
          "base_uri": "https://localhost:8080/"
        },
        "id": "0NJLatayyU_0",
        "outputId": "a36058c1-6c96-4175-e4d8-d82158ef333d"
      },
      "outputs": [
        {
          "name": "stdout",
          "output_type": "stream",
          "text": [
            "   Duration  Pulse  Maxpulse  Calories\n",
            "0        60    110       130     409.1\n",
            "1        60    117       145     479.0\n",
            "2        60    103       135     340.0\n",
            "3        45    109       175     282.4\n",
            "4        45    117       148     406.0\n",
            "5        60    102       127     300.0\n",
            "6        60    110       136     374.0\n",
            "7        45    104       134     253.3\n",
            "8        30    109       133     195.1\n",
            "9        60     98       124     269.0\n"
          ]
        }
      ],
      "source": [
        "df = pd.read_csv('data.csv')\n",
        "print(df.head(10))\n"
      ]
    },
    {
      "cell_type": "markdown",
      "metadata": {
        "id": "MJMTZ_G1ya2b"
      },
      "source": [
        "13.Check the data types of each column after loading a CSV:"
      ]
    },
    {
      "cell_type": "code",
      "execution_count": 26,
      "metadata": {
        "colab": {
          "base_uri": "https://localhost:8080/"
        },
        "id": "WN4dnqD5ydgm",
        "outputId": "0af2cf6d-f434-4896-e20b-a59f0e31fd2a"
      },
      "outputs": [
        {
          "name": "stdout",
          "output_type": "stream",
          "text": [
            "Duration      int64\n",
            "Pulse         int64\n",
            "Maxpulse      int64\n",
            "Calories    float64\n",
            "dtype: object\n"
          ]
        }
      ],
      "source": [
        "df = pd.read_csv('data.csv')\n",
        "print(df.dtypes)\n"
      ]
    },
    {
      "cell_type": "markdown",
      "metadata": {
        "id": "zzwlz9wsyh44"
      },
      "source": [
        "14.Drop rows containing missing values:"
      ]
    },
    {
      "cell_type": "code",
      "execution_count": 27,
      "metadata": {
        "colab": {
          "base_uri": "https://localhost:8080/"
        },
        "id": "OMJ32QuVykPm",
        "outputId": "469c9c1e-4787-440c-ea70-df1395fb92b2"
      },
      "outputs": [
        {
          "name": "stdout",
          "output_type": "stream",
          "text": [
            "     Duration  Pulse  Maxpulse  Calories\n",
            "0          60    110       130     409.1\n",
            "1          60    117       145     479.0\n",
            "2          60    103       135     340.0\n",
            "3          45    109       175     282.4\n",
            "4          45    117       148     406.0\n",
            "..        ...    ...       ...       ...\n",
            "164        60    105       140     290.8\n",
            "165        60    110       145     300.0\n",
            "166        60    115       145     310.2\n",
            "167        75    120       150     320.4\n",
            "168        75    125       150     330.4\n",
            "\n",
            "[164 rows x 4 columns]\n"
          ]
        }
      ],
      "source": [
        "df = pd.read_csv('data.csv')\n",
        "df_clean = df.dropna()\n",
        "print(df_clean)\n"
      ]
    },
    {
      "cell_type": "markdown",
      "metadata": {
        "id": "EQmVJCszymks"
      },
      "source": [
        "15.Fill missing values with the mean of their columns:"
      ]
    },
    {
      "cell_type": "code",
      "execution_count": 28,
      "metadata": {
        "colab": {
          "base_uri": "https://localhost:8080/"
        },
        "id": "QcNJ1bAAypc3",
        "outputId": "3e6da0c8-5ce8-4b2e-979a-422b93e2e72d"
      },
      "outputs": [
        {
          "name": "stdout",
          "output_type": "stream",
          "text": [
            "     A    B\n",
            "0  1.0  5.5\n",
            "1  2.0  5.0\n",
            "2  3.0  6.0\n"
          ]
        }
      ],
      "source": [
        "df = pd.DataFrame({'A': [1, None, 3], 'B': [None, 5, 6]})\n",
        "df_filled = df.fillna(df.mean())\n",
        "print(df_filled)\n"
      ]
    },
    {
      "cell_type": "markdown",
      "metadata": {
        "id": "NYUOFLdPyr8a"
      },
      "source": [
        "16.Convert strings to numeric values using astype():"
      ]
    },
    {
      "cell_type": "code",
      "execution_count": 29,
      "metadata": {
        "colab": {
          "base_uri": "https://localhost:8080/"
        },
        "id": "Ip4RAr2QyvUq",
        "outputId": "42edfaaf-2d26-4046-9940-3783a54b406e"
      },
      "outputs": [
        {
          "name": "stdout",
          "output_type": "stream",
          "text": [
            "    A\n",
            "0  10\n",
            "1  20\n",
            "2  30\n"
          ]
        }
      ],
      "source": [
        "df = pd.DataFrame({'A': ['10', '20', '30']})\n",
        "df['A'] = df['A'].astype(int)\n",
        "print(df)\n"
      ]
    },
    {
      "cell_type": "markdown",
      "metadata": {
        "id": "MiwB_kx5QGwd"
      },
      "source": [
        "17.Correct incorrect values in a DataFrame programmatically:"
      ]
    },
    {
      "cell_type": "code",
      "execution_count": 30,
      "metadata": {
        "colab": {
          "base_uri": "https://localhost:8080/"
        },
        "id": "GRC2OcPGQtJI",
        "outputId": "c1eaf5b4-d94c-469a-86c9-ead8bcc3e561"
      },
      "outputs": [
        {
          "name": "stdout",
          "output_type": "stream",
          "text": [
            "            A\n",
            "0   10.000000\n",
            "1 -319.666667\n",
            "2   30.000000\n"
          ]
        }
      ],
      "source": [
        "df = pd.DataFrame({'A': [10, -999, 30]})\n",
        "df['A'] = df['A'].replace(-999, df['A'].mean())\n",
        "print(df)\n"
      ]
    },
    {
      "cell_type": "markdown",
      "metadata": {
        "id": "5biq1TTQQvTE"
      },
      "source": [
        "18.Remove duplicate rows using drop_duplicates():"
      ]
    },
    {
      "cell_type": "code",
      "execution_count": 31,
      "metadata": {
        "colab": {
          "base_uri": "https://localhost:8080/"
        },
        "id": "rOcxZ4sxQyCq",
        "outputId": "319b6772-95a9-4883-8ea4-4ec13bbbb71b"
      },
      "outputs": [
        {
          "name": "stdout",
          "output_type": "stream",
          "text": [
            "   A  B\n",
            "0  1  4\n",
            "2  2  5\n"
          ]
        }
      ],
      "source": [
        "df = pd.DataFrame({'A': [1, 1, 2], 'B': [4, 4, 5]})\n",
        "df_clean = df.drop_duplicates()\n",
        "print(df_clean)\n"
      ]
    },
    {
      "cell_type": "markdown",
      "metadata": {
        "id": "FzIbYUOQQ-mn"
      },
      "source": [
        "19.Write a function to clean a DataFrame:"
      ]
    },
    {
      "cell_type": "code",
      "execution_count": 32,
      "metadata": {
        "colab": {
          "base_uri": "https://localhost:8080/"
        },
        "id": "ghknbSpEQ_ug",
        "outputId": "507b509f-7230-4ac5-8467-c9342dc34534"
      },
      "outputs": [
        {
          "name": "stdout",
          "output_type": "stream",
          "text": [
            "     A    B\n",
            "0  1.0  4.0\n",
            "1  1.0  5.0\n"
          ]
        }
      ],
      "source": [
        "def clean_df(df):\n",
        "    df = df.fillna(df.mean())\n",
        "    df = df.drop_duplicates()\n",
        "    df = df.astype(float)\n",
        "    return df\n",
        "\n",
        "df = pd.DataFrame({'A': [1, 1, None], 'B': [4, 5, 5]})\n",
        "print(clean_df(df))\n"
      ]
    },
    {
      "cell_type": "markdown",
      "metadata": {
        "id": "yuWdgQohRC10"
      },
      "source": [
        "20.Compute the correlation between two numeric columns using corr():"
      ]
    },
    {
      "cell_type": "code",
      "execution_count": 33,
      "metadata": {
        "colab": {
          "base_uri": "https://localhost:8080/"
        },
        "id": "qN1_XGlwRIfQ",
        "outputId": "fadf444d-555e-4d0d-d4ac-7079d1250f53"
      },
      "outputs": [
        {
          "name": "stdout",
          "output_type": "stream",
          "text": [
            "     A    B\n",
            "A  1.0  1.0\n",
            "B  1.0  1.0\n"
          ]
        }
      ],
      "source": [
        "df = pd.DataFrame({'A': [1, 2, 3], 'B': [4, 5, 6]})\n",
        "print(df.corr())\n"
      ]
    },
    {
      "cell_type": "markdown",
      "metadata": {
        "id": "viAmJiMERKpa"
      },
      "source": [
        "21.Calculate the sum and mean of numeric columns using agg():"
      ]
    },
    {
      "cell_type": "code",
      "execution_count": 34,
      "metadata": {
        "colab": {
          "base_uri": "https://localhost:8080/"
        },
        "id": "lbenqQH-RNbB",
        "outputId": "94ab48c7-0b0d-4684-c5bb-8e96b78f4083"
      },
      "outputs": [
        {
          "name": "stdout",
          "output_type": "stream",
          "text": [
            "        A     B\n",
            "sum   6.0  15.0\n",
            "mean  2.0   5.0\n"
          ]
        }
      ],
      "source": [
        "df = pd.DataFrame({'A': [1, 2, 3], 'B': [4, 5, 6]})\n",
        "print(df.agg(['sum', 'mean']))\n"
      ]
    },
    {
      "cell_type": "markdown",
      "metadata": {
        "id": "4V90hH5oRP4O"
      },
      "source": [
        "22.Apply multiple aggregation operations (e.g., min, max, mean) on a specific column:"
      ]
    },
    {
      "cell_type": "code",
      "execution_count": 35,
      "metadata": {
        "colab": {
          "base_uri": "https://localhost:8080/"
        },
        "id": "KpGwGl1FRSyo",
        "outputId": "070138aa-58fd-4fbe-e27f-c9c480625a27"
      },
      "outputs": [
        {
          "name": "stdout",
          "output_type": "stream",
          "text": [
            "        A\n",
            "min   1.0\n",
            "max   3.0\n",
            "mean  2.0\n"
          ]
        }
      ],
      "source": [
        "df = pd.DataFrame({'A': [1, 2, 3], 'B': [4, 5, 6]})\n",
        "print(df.agg({'A': ['min', 'max', 'mean']}))\n"
      ]
    },
    {
      "cell_type": "markdown",
      "metadata": {
        "id": "X28JpIiMRVAk"
      },
      "source": [
        "23.Use a custom aggregation function in agg() to calculate the range:"
      ]
    },
    {
      "cell_type": "code",
      "execution_count": 36,
      "metadata": {
        "colab": {
          "base_uri": "https://localhost:8080/"
        },
        "id": "SzflfTWrRXdr",
        "outputId": "19760e5f-4a56-406e-e8e9-8767696af233"
      },
      "outputs": [
        {
          "name": "stdout",
          "output_type": "stream",
          "text": [
            "A    2\n",
            "dtype: int64\n"
          ]
        }
      ],
      "source": [
        "def calc_range(x):\n",
        "    return x.max() - x.min()\n",
        "\n",
        "df = pd.DataFrame({'A': [1, 2, 3]})\n",
        "print(df.agg({'A': calc_range}))\n"
      ]
    },
    {
      "cell_type": "markdown",
      "metadata": {
        "id": "Cof_2ZFhRZnB"
      },
      "source": [
        "24.Use the add() function to add two DataFrames element-wise:"
      ]
    },
    {
      "cell_type": "code",
      "execution_count": 37,
      "metadata": {
        "colab": {
          "base_uri": "https://localhost:8080/"
        },
        "id": "zBwfP5QPRcPu",
        "outputId": "97f4ae3d-1492-445b-bea5-5be8e8177178"
      },
      "outputs": [
        {
          "name": "stdout",
          "output_type": "stream",
          "text": [
            "   A   B\n",
            "0  6  10\n",
            "1  8  12\n"
          ]
        }
      ],
      "source": [
        "df1 = pd.DataFrame({'A': [1, 2], 'B': [3, 4]})\n",
        "df2 = pd.DataFrame({'A': [5, 6], 'B': [7, 8]})\n",
        "result = df1.add(df2)\n",
        "print(result)\n"
      ]
    },
    {
      "cell_type": "markdown",
      "metadata": {
        "id": "YD1a7N9zRee_"
      },
      "source": [
        "25.Use map() to convert a column of categorical data to numerical labels:"
      ]
    },
    {
      "cell_type": "code",
      "execution_count": 38,
      "metadata": {
        "colab": {
          "base_uri": "https://localhost:8080/"
        },
        "id": "3aZuaEoHRhlU",
        "outputId": "44b5217b-bb17-469c-8acf-0a4cdf0280ad"
      },
      "outputs": [
        {
          "name": "stdout",
          "output_type": "stream",
          "text": [
            "        A  A_mapped\n",
            "0   apple         1\n",
            "1  banana         2\n",
            "2  cherry         3\n"
          ]
        }
      ],
      "source": [
        "df = pd.DataFrame({'A': ['apple', 'banana', 'cherry']})\n",
        "df['A_mapped'] = df['A'].map({'apple': 1, 'banana': 2, 'cherry': 3})\n",
        "print(df)\n"
      ]
    },
    {
      "cell_type": "markdown",
      "metadata": {
        "id": "boQN1OQKRkHH"
      },
      "source": [
        "26.Check the shape and dimensions of a DataFrame using shape and ndim:"
      ]
    },
    {
      "cell_type": "code",
      "execution_count": 39,
      "metadata": {
        "colab": {
          "base_uri": "https://localhost:8080/"
        },
        "id": "dBbg-m2FRmsi",
        "outputId": "fd753e18-9534-454a-f7c2-494759f634f5"
      },
      "outputs": [
        {
          "name": "stdout",
          "output_type": "stream",
          "text": [
            "(3, 2)\n",
            "2\n"
          ]
        }
      ],
      "source": [
        "df = pd.DataFrame({'A': [1, 2, 3], 'B': [4, 5, 6]})\n",
        "print(df.shape)\n",
        "print(df.ndim)\n"
      ]
    },
    {
      "cell_type": "markdown",
      "metadata": {
        "id": "wnGGBeS5RpV2"
      },
      "source": [
        "27.Return the absolute values of numeric columns using abs():"
      ]
    },
    {
      "cell_type": "code",
      "execution_count": 40,
      "metadata": {
        "colab": {
          "base_uri": "https://localhost:8080/"
        },
        "id": "knGulV9sRsvo",
        "outputId": "b842ed57-97e1-4d76-a1c7-97cf5edb533f"
      },
      "outputs": [
        {
          "name": "stdout",
          "output_type": "stream",
          "text": [
            "   A  B\n",
            "0  1  4\n",
            "1  2  5\n",
            "2  3  6\n"
          ]
        }
      ],
      "source": [
        "df = pd.DataFrame({'A': [-1, 2, -3], 'B': [4, -5, 6]})\n",
        "print(df.abs())\n"
      ]
    },
    {
      "cell_type": "markdown",
      "metadata": {
        "id": "5jzf8imORurG"
      },
      "source": [
        "28.Drop rows that contain values that do not meet a specified format"
      ]
    },
    {
      "cell_type": "code",
      "execution_count": 41,
      "metadata": {
        "colab": {
          "base_uri": "https://localhost:8080/"
        },
        "id": "vRmPV0OLRxSv",
        "outputId": "d5d9c2c7-2dbd-47d0-9344-49eccc76d02b"
      },
      "outputs": [
        {
          "name": "stdout",
          "output_type": "stream",
          "text": [
            "     A   B\n",
            "0   10  30\n",
            "2  NaN  40\n"
          ]
        }
      ],
      "source": [
        "df = pd.DataFrame({'A': ['10', '20', 'NaN'], 'B': ['30', 'invalid', '40']})\n",
        "df_clean = df[df['B'].str.isnumeric()]\n",
        "print(df_clean)\n"
      ]
    },
    {
      "cell_type": "markdown",
      "metadata": {},
      "source": [
        "Here, df['B'].str.isnumeric() checks whether each value in column 'B' consists only of numeric characters. It returns a boolean Series indicating whether each value is numeric"
      ]
    },
    {
      "cell_type": "code",
      "execution_count": null,
      "metadata": {},
      "outputs": [
        {
          "ename": "",
          "evalue": "",
          "output_type": "error",
          "traceback": [
            "\u001b[1;31mRunning cells with 'Python 3.11.4' requires the ipykernel package.\n",
            "\u001b[1;31mRun the following command to install 'ipykernel' into the Python environment. \n",
            "\u001b[1;31mCommand: 'c:/Users/sid41/AppData/Local/Programs/Python/Python311/python.exe -m pip install ipykernel -U --user --force-reinstall'"
          ]
        }
      ],
      "source": [
        "import pandas as pd\n",
        "import numpy as np\n",
        "\n",
        "# Create the DataFrame\n",
        "df = pd.DataFrame({'A': ['10', '20', 'NaN'], 'B': ['30', 'invalid', '40']})\n",
        "\n",
        "# Step 1: Replace 'NaN' string with actual np.nan\n",
        "df.replace('NaN', np.nan, inplace=True)\n",
        "\n",
        "# Step 2: Convert columns to numeric, forcing errors to NaN\n",
        "df['A'] = pd.to_numeric(df['A'], errors='coerce')\n",
        "df['B'] = pd.to_numeric(df['B'], errors='coerce')\n",
        "\n",
        "# Step 3: Handle missing values\n",
        "# Option 1: Drop rows with any NaN values\n",
        "# df_clean = df.dropna()\n",
        "\n",
        "# Option 2: Fill NaN values with a specific value (e.g., 0)\n",
        "df.fillna(0, inplace=True)\n",
        "\n",
        "# Step 4: Optionally, trim whitespaces in string columns\n",
        "# df['column_name'] = df['column_name'].str.strip()\n",
        "\n",
        "# Display the cleaned DataFrame\n",
        "print(df)\n"
      ]
    },
    {
      "cell_type": "markdown",
      "metadata": {
        "id": "AxcmJx3HR0n4"
      },
      "source": [
        "29.Use bfill() to backfill missing values:"
      ]
    },
    {
      "cell_type": "code",
      "execution_count": 42,
      "metadata": {
        "colab": {
          "base_uri": "https://localhost:8080/"
        },
        "id": "8SXVb0L0R3qd",
        "outputId": "4e23a6e4-011e-4a02-84a8-7c2485e91502"
      },
      "outputs": [
        {
          "name": "stdout",
          "output_type": "stream",
          "text": [
            "     A    B\n",
            "0  2.0  4.0\n",
            "1  2.0  6.0\n",
            "2  3.0  6.0\n"
          ]
        }
      ],
      "source": [
        "df = pd.DataFrame({'A': [None, 2, 3], 'B': [4, None, 6]})\n",
        "df_bfilled = df.bfill()\n",
        "print(df_bfilled)\n"
      ]
    },
    {
      "cell_type": "markdown",
      "metadata": {
        "id": "b23fGHCRR5aL"
      },
      "source": [
        "30.Change the data type of a column from float to int using astype():"
      ]
    },
    {
      "cell_type": "code",
      "execution_count": 43,
      "metadata": {
        "colab": {
          "base_uri": "https://localhost:8080/"
        },
        "id": "oWxlenuzR731",
        "outputId": "eb708937-9c81-4448-b3ef-90dffc343ae9"
      },
      "outputs": [
        {
          "name": "stdout",
          "output_type": "stream",
          "text": [
            "   A\n",
            "0  1\n",
            "1  2\n",
            "2  3\n"
          ]
        }
      ],
      "source": [
        "df = pd.DataFrame({'A': [1.5, 2.5, 3.5]})\n",
        "df['A'] = df['A'].astype(int)\n",
        "print(df)\n"
      ]
    }
  ],
  "metadata": {
    "colab": {
      "provenance": []
    },
    "kernelspec": {
      "display_name": "Python 3",
      "name": "python3"
    },
    "language_info": {
      "name": "python",
      "version": "3.11.4"
    }
  },
  "nbformat": 4,
  "nbformat_minor": 0
}
